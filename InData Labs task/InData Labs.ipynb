{
 "cells": [
  {
   "cell_type": "markdown",
   "metadata": {},
   "source": [
    "## Выполнил: Сиволобцев Роман"
   ]
  },
  {
   "cell_type": "markdown",
   "metadata": {},
   "source": [
    "# Импорт"
   ]
  },
  {
   "cell_type": "code",
   "execution_count": 1,
   "metadata": {
    "collapsed": true
   },
   "outputs": [],
   "source": [
    "from __future__ import division, unicode_literals\n",
    "\n",
    "import pandas as pd\n",
    "import numpy as np\n",
    "import matplotlib.pyplot as plt\n",
    "\n",
    "from sklearn.metrics import roc_auc_score\n",
    "from sklearn import cross_validation\n",
    "\n",
    "%matplotlib inline"
   ]
  },
  {
   "cell_type": "code",
   "execution_count": 2,
   "metadata": {
    "collapsed": true
   },
   "outputs": [],
   "source": [
    "train = pd.read_csv('train.csv', encoding='utf-8', lineterminator='\\n')\n",
    "test = pd.read_csv('test.csv', encoding='utf-8', lineterminator='\\n')"
   ]
  },
  {
   "cell_type": "markdown",
   "metadata": {},
   "source": [
    "# Выбор признаков"
   ]
  },
  {
   "cell_type": "code",
   "execution_count": 3,
   "metadata": {
    "collapsed": false
   },
   "outputs": [
    {
     "name": "stdout",
     "output_type": "stream",
     "text": [
      "id\n",
      "text\n",
      "in_reply_to_user_id\n",
      "user.id\n",
      "user.name\n",
      "user.screen_name\n",
      "user.description\n",
      "user.location\n",
      "user.lang\n",
      "user.time_zone\n",
      "user.utc_offset\n",
      "user.statuses_count\n",
      "user.followers_count\n",
      "user.friends_count\n",
      "user.favourites_count\n",
      "user.created_at\n",
      "user.geo_enabled\n",
      "user.is_translation_enabled\n",
      "user.listed_count\n",
      "retweet_count\n"
     ]
    }
   ],
   "source": [
    "for index, field in enumerate(train.columns):\n",
    "    print(field)"
   ]
  },
  {
   "cell_type": "markdown",
   "metadata": {},
   "source": [
    "Данных о твит-сообщениях много, для начала уберём ненужную информацию: \n",
    "- Имя пользователя. Запоминание конкретных имён может привести к переобучению, а учитывая что авторы сообщений в тестовых и обучающих выборках не пересекаются, получаем избыточный признак.\n",
    "- Временную зону. Так как статистика идёт за 48 часов твита и нет разницы в какое время его написали.\n",
    "- Дату создания аккаунта. Каждый уделяет столько времени сколько он хочет - кто-то больше, кто-то меньше. А некоторые люди могут создать аккаунт, закинуть его, а потом снова вспомнить. На мой взгляд этот признак рассматривать не нужно."
   ]
  },
  {
   "cell_type": "code",
   "execution_count": 4,
   "metadata": {
    "collapsed": false,
    "scrolled": false
   },
   "outputs": [
    {
     "data": {
      "text/html": [
       "<div>\n",
       "<table border=\"1\" class=\"dataframe\">\n",
       "  <thead>\n",
       "    <tr style=\"text-align: right;\">\n",
       "      <th></th>\n",
       "      <th>id</th>\n",
       "      <th>text</th>\n",
       "      <th>in_reply_to_user_id</th>\n",
       "      <th>user.id</th>\n",
       "      <th>user.screen_name</th>\n",
       "      <th>user.description</th>\n",
       "      <th>user.location</th>\n",
       "      <th>user.lang</th>\n",
       "      <th>user.statuses_count</th>\n",
       "      <th>user.followers_count</th>\n",
       "      <th>user.friends_count</th>\n",
       "      <th>user.favourites_count</th>\n",
       "      <th>user.geo_enabled</th>\n",
       "      <th>user.is_translation_enabled</th>\n",
       "      <th>user.listed_count</th>\n",
       "      <th>retweet_count</th>\n",
       "    </tr>\n",
       "  </thead>\n",
       "  <tbody>\n",
       "    <tr>\n",
       "      <th>0</th>\n",
       "      <td>629692043326062592</td>\n",
       "      <td>Me and ma fwends 🍎 http://t.co/B3YJ31hZuc</td>\n",
       "      <td>0.0</td>\n",
       "      <td>133840449</td>\n",
       "      <td>xcaptainpaulx</td>\n",
       "      <td>Guitarist for @chunknocaptainc // Founder @off...</td>\n",
       "      <td>NaN</td>\n",
       "      <td>fr</td>\n",
       "      <td>1606</td>\n",
       "      <td>9164</td>\n",
       "      <td>205</td>\n",
       "      <td>758</td>\n",
       "      <td>True</td>\n",
       "      <td>False</td>\n",
       "      <td>27</td>\n",
       "      <td>12</td>\n",
       "    </tr>\n",
       "    <tr>\n",
       "      <th>1</th>\n",
       "      <td>629692041362968576</td>\n",
       "      <td>@SinedioMD @AspyrMedia Try this link https://t...</td>\n",
       "      <td>7629232.0</td>\n",
       "      <td>21245956</td>\n",
       "      <td>Direct2Drive</td>\n",
       "      <td>D2D has an ever-expanding library of downloada...</td>\n",
       "      <td>California, USA</td>\n",
       "      <td>en</td>\n",
       "      <td>3004</td>\n",
       "      <td>7484</td>\n",
       "      <td>708</td>\n",
       "      <td>44</td>\n",
       "      <td>False</td>\n",
       "      <td>False</td>\n",
       "      <td>330</td>\n",
       "      <td>0</td>\n",
       "    </tr>\n",
       "    <tr>\n",
       "      <th>2</th>\n",
       "      <td>629692040679419904</td>\n",
       "      <td>@davidrobots @GamesRadar @David_H_Esq @CatGone...</td>\n",
       "      <td>16535125.0</td>\n",
       "      <td>63785369</td>\n",
       "      <td>ajohnagnello</td>\n",
       "      <td>I am the Senior Social Editor at GamesRadar+ a...</td>\n",
       "      <td>New York City</td>\n",
       "      <td>en</td>\n",
       "      <td>3988</td>\n",
       "      <td>2050</td>\n",
       "      <td>491</td>\n",
       "      <td>422</td>\n",
       "      <td>False</td>\n",
       "      <td>False</td>\n",
       "      <td>70</td>\n",
       "      <td>0</td>\n",
       "    </tr>\n",
       "    <tr>\n",
       "      <th>3</th>\n",
       "      <td>629692040666812416</td>\n",
       "      <td>Already hearing scanner traffic from Heath ask...</td>\n",
       "      <td>0.0</td>\n",
       "      <td>28812126</td>\n",
       "      <td>bethany_bruner</td>\n",
       "      <td>Breaking News Reporter for @NewarkAdvocate,  @...</td>\n",
       "      <td>NaN</td>\n",
       "      <td>en</td>\n",
       "      <td>9018</td>\n",
       "      <td>919</td>\n",
       "      <td>309</td>\n",
       "      <td>79</td>\n",
       "      <td>True</td>\n",
       "      <td>False</td>\n",
       "      <td>38</td>\n",
       "      <td>0</td>\n",
       "    </tr>\n",
       "    <tr>\n",
       "      <th>4</th>\n",
       "      <td>629692038842306560</td>\n",
       "      <td>@MelJohnson6527 next year with @Chuck_Ellis #c...</td>\n",
       "      <td>181232379.0</td>\n",
       "      <td>44024059</td>\n",
       "      <td>NdotSmitty</td>\n",
       "      <td>2010 Duke National Champ! I'm Still ON A MISSI...</td>\n",
       "      <td>DMV/Durham/Louisville/ Next??</td>\n",
       "      <td>en</td>\n",
       "      <td>32527</td>\n",
       "      <td>85356</td>\n",
       "      <td>912</td>\n",
       "      <td>137</td>\n",
       "      <td>True</td>\n",
       "      <td>False</td>\n",
       "      <td>1232</td>\n",
       "      <td>1</td>\n",
       "    </tr>\n",
       "  </tbody>\n",
       "</table>\n",
       "</div>"
      ],
      "text/plain": [
       "                   id                                               text  \\\n",
       "0  629692043326062592          Me and ma fwends 🍎 http://t.co/B3YJ31hZuc   \n",
       "1  629692041362968576  @SinedioMD @AspyrMedia Try this link https://t...   \n",
       "2  629692040679419904  @davidrobots @GamesRadar @David_H_Esq @CatGone...   \n",
       "3  629692040666812416  Already hearing scanner traffic from Heath ask...   \n",
       "4  629692038842306560  @MelJohnson6527 next year with @Chuck_Ellis #c...   \n",
       "\n",
       "   in_reply_to_user_id    user.id user.screen_name  \\\n",
       "0                  0.0  133840449    xcaptainpaulx   \n",
       "1            7629232.0   21245956     Direct2Drive   \n",
       "2           16535125.0   63785369     ajohnagnello   \n",
       "3                  0.0   28812126   bethany_bruner   \n",
       "4          181232379.0   44024059       NdotSmitty   \n",
       "\n",
       "                                    user.description  \\\n",
       "0  Guitarist for @chunknocaptainc // Founder @off...   \n",
       "1  D2D has an ever-expanding library of downloada...   \n",
       "2  I am the Senior Social Editor at GamesRadar+ a...   \n",
       "3  Breaking News Reporter for @NewarkAdvocate,  @...   \n",
       "4  2010 Duke National Champ! I'm Still ON A MISSI...   \n",
       "\n",
       "                   user.location user.lang  user.statuses_count  \\\n",
       "0                            NaN        fr                 1606   \n",
       "1                California, USA        en                 3004   \n",
       "2                  New York City        en                 3988   \n",
       "3                            NaN        en                 9018   \n",
       "4  DMV/Durham/Louisville/ Next??        en                32527   \n",
       "\n",
       "   user.followers_count  user.friends_count  user.favourites_count  \\\n",
       "0                  9164                 205                    758   \n",
       "1                  7484                 708                     44   \n",
       "2                  2050                 491                    422   \n",
       "3                   919                 309                     79   \n",
       "4                 85356                 912                    137   \n",
       "\n",
       "  user.geo_enabled user.is_translation_enabled  user.listed_count  \\\n",
       "0             True                       False                 27   \n",
       "1            False                       False                330   \n",
       "2            False                       False                 70   \n",
       "3             True                       False                 38   \n",
       "4             True                       False               1232   \n",
       "\n",
       "   retweet_count  \n",
       "0             12  \n",
       "1              0  \n",
       "2              0  \n",
       "3              0  \n",
       "4              1  "
      ]
     },
     "execution_count": 4,
     "metadata": {},
     "output_type": "execute_result"
    }
   ],
   "source": [
    "del train['user.name']\n",
    "del train['user.utc_offset']\n",
    "del train['user.time_zone']\n",
    "del train['user.created_at']\n",
    "\n",
    "train[:5]"
   ]
  },
  {
   "cell_type": "markdown",
   "metadata": {},
   "source": [
    "В твитах есть ссылки на аккаунты других пользователей, обозначающиеся после символа \"@\". А если это сами по себе ретвиты, то в in_reply_to_user_id хранится отсылка к аккаунту начального автора твита. Можно сделать как один из признаков отсылку на данные пользователя упомянутого в данном твите. НО! Учитывая что база не полная (существуют ссылки на аккаунты которые не предоставлены в базе) и то что это может вызвать переобучение, было решено отказаться от такого признака. \n",
    "\n",
    "При обработке текста, будут учтены ссылки, но не на конкретные объекты, а просто как количественный параметр.\n",
    "В связи с этим данные в колонках user.id, in_reply_to_user_id, user.screen_name, перестали быть информативными. Удалим или заменим их."
   ]
  },
  {
   "cell_type": "code",
   "execution_count": 5,
   "metadata": {
    "collapsed": false
   },
   "outputs": [],
   "source": [
    "# Перед удалением пользовательских id, отсортируем по ним выборку, для лучшей кросс-валидации в будущем.\n",
    "train = train.sort_values(by = 'user.id')\n",
    "\n",
    "del train['user.screen_name']\n",
    "del train['user.id']\n",
    "\n",
    "train['in_reply_to_user_id'] = train['in_reply_to_user_id']>0 # реформируем поля, теперь: 1 - ретвит, 0 - твит."
   ]
  },
  {
   "cell_type": "code",
   "execution_count": 6,
   "metadata": {
    "collapsed": false
   },
   "outputs": [
    {
     "data": {
      "text/html": [
       "<div>\n",
       "<table border=\"1\" class=\"dataframe\">\n",
       "  <thead>\n",
       "    <tr style=\"text-align: right;\">\n",
       "      <th></th>\n",
       "      <th>id</th>\n",
       "      <th>text</th>\n",
       "      <th>in_reply_to_user_id</th>\n",
       "      <th>user.description</th>\n",
       "      <th>user.location</th>\n",
       "      <th>user.lang</th>\n",
       "      <th>user.statuses_count</th>\n",
       "      <th>user.followers_count</th>\n",
       "      <th>user.friends_count</th>\n",
       "      <th>user.favourites_count</th>\n",
       "      <th>user.geo_enabled</th>\n",
       "      <th>user.is_translation_enabled</th>\n",
       "      <th>user.listed_count</th>\n",
       "      <th>retweet_count</th>\n",
       "    </tr>\n",
       "  </thead>\n",
       "  <tbody>\n",
       "    <tr>\n",
       "      <th>30006</th>\n",
       "      <td>629662292427157508</td>\n",
       "      <td>Puerto Rico is the new Greece  https://t.co/FD...</td>\n",
       "      <td>False</td>\n",
       "      <td>VC @FirstRound and BD always. Technology histo...</td>\n",
       "      <td>NYC and PHL mostly</td>\n",
       "      <td>en</td>\n",
       "      <td>12954</td>\n",
       "      <td>9692</td>\n",
       "      <td>1692</td>\n",
       "      <td>2662</td>\n",
       "      <td>True</td>\n",
       "      <td>False</td>\n",
       "      <td>549</td>\n",
       "      <td>0</td>\n",
       "    </tr>\n",
       "    <tr>\n",
       "      <th>14145</th>\n",
       "      <td>629678103179210752</td>\n",
       "      <td>Surprise 70th bday party /(&amp;amp; 20-person gol...</td>\n",
       "      <td>False</td>\n",
       "      <td>I like snowboards, foursquare and unemployment.</td>\n",
       "      <td>nyc / kingston</td>\n",
       "      <td>en</td>\n",
       "      <td>45371</td>\n",
       "      <td>79241</td>\n",
       "      <td>1476</td>\n",
       "      <td>2330</td>\n",
       "      <td>True</td>\n",
       "      <td>False</td>\n",
       "      <td>4345</td>\n",
       "      <td>1</td>\n",
       "    </tr>\n",
       "    <tr>\n",
       "      <th>8877</th>\n",
       "      <td>629683426694664192</td>\n",
       "      <td>OMG my brother-in-law Brian just hit a 107 yar...</td>\n",
       "      <td>False</td>\n",
       "      <td>I like snowboards, foursquare and unemployment.</td>\n",
       "      <td>nyc / kingston</td>\n",
       "      <td>en</td>\n",
       "      <td>45371</td>\n",
       "      <td>79241</td>\n",
       "      <td>1476</td>\n",
       "      <td>2330</td>\n",
       "      <td>True</td>\n",
       "      <td>False</td>\n",
       "      <td>4345</td>\n",
       "      <td>0</td>\n",
       "    </tr>\n",
       "    <tr>\n",
       "      <th>3791</th>\n",
       "      <td>629688126580002816</td>\n",
       "      <td>Yahoo uses Periscope. https://t.co/TAYrlpXLxn</td>\n",
       "      <td>False</td>\n",
       "      <td>Married to @crystale, dad to @CCEleven &amp; @Circ...</td>\n",
       "      <td>NaN</td>\n",
       "      <td>en</td>\n",
       "      <td>40407</td>\n",
       "      <td>1616444</td>\n",
       "      <td>867</td>\n",
       "      <td>123811</td>\n",
       "      <td>True</td>\n",
       "      <td>False</td>\n",
       "      <td>10506</td>\n",
       "      <td>8</td>\n",
       "    </tr>\n",
       "    <tr>\n",
       "      <th>6093</th>\n",
       "      <td>629685761026166784</td>\n",
       "      <td>Lots of people applaud @realDonaldTrump for ho...</td>\n",
       "      <td>False</td>\n",
       "      <td>Dir. Audience Development (@TCTotem), author (...</td>\n",
       "      <td>Toronto, ON</td>\n",
       "      <td>en</td>\n",
       "      <td>54026</td>\n",
       "      <td>51351</td>\n",
       "      <td>3307</td>\n",
       "      <td>3895</td>\n",
       "      <td>True</td>\n",
       "      <td>False</td>\n",
       "      <td>3948</td>\n",
       "      <td>2</td>\n",
       "    </tr>\n",
       "  </tbody>\n",
       "</table>\n",
       "</div>"
      ],
      "text/plain": [
       "                       id                                               text  \\\n",
       "30006  629662292427157508  Puerto Rico is the new Greece  https://t.co/FD...   \n",
       "14145  629678103179210752  Surprise 70th bday party /(&amp; 20-person gol...   \n",
       "8877   629683426694664192  OMG my brother-in-law Brian just hit a 107 yar...   \n",
       "3791   629688126580002816      Yahoo uses Periscope. https://t.co/TAYrlpXLxn   \n",
       "6093   629685761026166784  Lots of people applaud @realDonaldTrump for ho...   \n",
       "\n",
       "      in_reply_to_user_id                                   user.description  \\\n",
       "30006               False  VC @FirstRound and BD always. Technology histo...   \n",
       "14145               False    I like snowboards, foursquare and unemployment.   \n",
       "8877                False    I like snowboards, foursquare and unemployment.   \n",
       "3791                False  Married to @crystale, dad to @CCEleven & @Circ...   \n",
       "6093                False  Dir. Audience Development (@TCTotem), author (...   \n",
       "\n",
       "            user.location user.lang  user.statuses_count  \\\n",
       "30006  NYC and PHL mostly        en                12954   \n",
       "14145      nyc / kingston        en                45371   \n",
       "8877       nyc / kingston        en                45371   \n",
       "3791                  NaN        en                40407   \n",
       "6093          Toronto, ON        en                54026   \n",
       "\n",
       "       user.followers_count  user.friends_count  user.favourites_count  \\\n",
       "30006                  9692                1692                   2662   \n",
       "14145                 79241                1476                   2330   \n",
       "8877                  79241                1476                   2330   \n",
       "3791                1616444                 867                 123811   \n",
       "6093                  51351                3307                   3895   \n",
       "\n",
       "      user.geo_enabled user.is_translation_enabled  user.listed_count  \\\n",
       "30006             True                       False                549   \n",
       "14145             True                       False               4345   \n",
       "8877              True                       False               4345   \n",
       "3791              True                       False              10506   \n",
       "6093              True                       False               3948   \n",
       "\n",
       "       retweet_count  \n",
       "30006              0  \n",
       "14145              1  \n",
       "8877               0  \n",
       "3791               8  \n",
       "6093               2  "
      ]
     },
     "execution_count": 6,
     "metadata": {},
     "output_type": "execute_result"
    }
   ],
   "source": [
    "train[:5]"
   ]
  },
  {
   "cell_type": "code",
   "execution_count": 7,
   "metadata": {
    "collapsed": false
   },
   "outputs": [
    {
     "data": {
      "text/html": [
       "<div>\n",
       "<table border=\"1\" class=\"dataframe\">\n",
       "  <thead>\n",
       "    <tr style=\"text-align: right;\">\n",
       "      <th></th>\n",
       "      <th>id</th>\n",
       "      <th>in_reply_to_user_id</th>\n",
       "      <th>user.statuses_count</th>\n",
       "      <th>user.followers_count</th>\n",
       "      <th>user.friends_count</th>\n",
       "      <th>user.favourites_count</th>\n",
       "      <th>user.geo_enabled</th>\n",
       "      <th>user.is_translation_enabled</th>\n",
       "      <th>user.listed_count</th>\n",
       "      <th>retweet_count</th>\n",
       "    </tr>\n",
       "  </thead>\n",
       "  <tbody>\n",
       "    <tr>\n",
       "      <th>id</th>\n",
       "      <td>1.000000</td>\n",
       "      <td>-0.009327</td>\n",
       "      <td>-0.030182</td>\n",
       "      <td>-0.000007</td>\n",
       "      <td>0.003039</td>\n",
       "      <td>0.016018</td>\n",
       "      <td>-0.000259</td>\n",
       "      <td>-0.007774</td>\n",
       "      <td>0.001763</td>\n",
       "      <td>0.012381</td>\n",
       "    </tr>\n",
       "    <tr>\n",
       "      <th>in_reply_to_user_id</th>\n",
       "      <td>-0.009327</td>\n",
       "      <td>1.000000</td>\n",
       "      <td>0.307408</td>\n",
       "      <td>-0.000940</td>\n",
       "      <td>0.071367</td>\n",
       "      <td>0.100630</td>\n",
       "      <td>-0.057485</td>\n",
       "      <td>-0.024408</td>\n",
       "      <td>-0.047139</td>\n",
       "      <td>-0.021664</td>\n",
       "    </tr>\n",
       "    <tr>\n",
       "      <th>user.statuses_count</th>\n",
       "      <td>-0.030182</td>\n",
       "      <td>0.307408</td>\n",
       "      <td>1.000000</td>\n",
       "      <td>0.052894</td>\n",
       "      <td>0.127003</td>\n",
       "      <td>0.024958</td>\n",
       "      <td>0.077813</td>\n",
       "      <td>0.040412</td>\n",
       "      <td>0.054768</td>\n",
       "      <td>-0.009976</td>\n",
       "    </tr>\n",
       "    <tr>\n",
       "      <th>user.followers_count</th>\n",
       "      <td>-0.000007</td>\n",
       "      <td>-0.000940</td>\n",
       "      <td>0.052894</td>\n",
       "      <td>1.000000</td>\n",
       "      <td>0.136822</td>\n",
       "      <td>0.022280</td>\n",
       "      <td>-0.035867</td>\n",
       "      <td>0.310828</td>\n",
       "      <td>0.845898</td>\n",
       "      <td>0.577299</td>\n",
       "    </tr>\n",
       "    <tr>\n",
       "      <th>user.friends_count</th>\n",
       "      <td>0.003039</td>\n",
       "      <td>0.071367</td>\n",
       "      <td>0.127003</td>\n",
       "      <td>0.136822</td>\n",
       "      <td>1.000000</td>\n",
       "      <td>0.179443</td>\n",
       "      <td>0.008857</td>\n",
       "      <td>0.025236</td>\n",
       "      <td>0.099393</td>\n",
       "      <td>0.057979</td>\n",
       "    </tr>\n",
       "    <tr>\n",
       "      <th>user.favourites_count</th>\n",
       "      <td>0.016018</td>\n",
       "      <td>0.100630</td>\n",
       "      <td>0.024958</td>\n",
       "      <td>0.022280</td>\n",
       "      <td>0.179443</td>\n",
       "      <td>1.000000</td>\n",
       "      <td>0.080932</td>\n",
       "      <td>0.018860</td>\n",
       "      <td>0.020612</td>\n",
       "      <td>0.000729</td>\n",
       "    </tr>\n",
       "    <tr>\n",
       "      <th>user.geo_enabled</th>\n",
       "      <td>-0.000259</td>\n",
       "      <td>-0.057485</td>\n",
       "      <td>0.077813</td>\n",
       "      <td>-0.035867</td>\n",
       "      <td>0.008857</td>\n",
       "      <td>0.080932</td>\n",
       "      <td>1.000000</td>\n",
       "      <td>-0.010995</td>\n",
       "      <td>-0.026231</td>\n",
       "      <td>-0.011232</td>\n",
       "    </tr>\n",
       "    <tr>\n",
       "      <th>user.is_translation_enabled</th>\n",
       "      <td>-0.007774</td>\n",
       "      <td>-0.024408</td>\n",
       "      <td>0.040412</td>\n",
       "      <td>0.310828</td>\n",
       "      <td>0.025236</td>\n",
       "      <td>0.018860</td>\n",
       "      <td>-0.010995</td>\n",
       "      <td>1.000000</td>\n",
       "      <td>0.272556</td>\n",
       "      <td>0.089645</td>\n",
       "    </tr>\n",
       "    <tr>\n",
       "      <th>user.listed_count</th>\n",
       "      <td>0.001763</td>\n",
       "      <td>-0.047139</td>\n",
       "      <td>0.054768</td>\n",
       "      <td>0.845898</td>\n",
       "      <td>0.099393</td>\n",
       "      <td>0.020612</td>\n",
       "      <td>-0.026231</td>\n",
       "      <td>0.272556</td>\n",
       "      <td>1.000000</td>\n",
       "      <td>0.641381</td>\n",
       "    </tr>\n",
       "    <tr>\n",
       "      <th>retweet_count</th>\n",
       "      <td>0.012381</td>\n",
       "      <td>-0.021664</td>\n",
       "      <td>-0.009976</td>\n",
       "      <td>0.577299</td>\n",
       "      <td>0.057979</td>\n",
       "      <td>0.000729</td>\n",
       "      <td>-0.011232</td>\n",
       "      <td>0.089645</td>\n",
       "      <td>0.641381</td>\n",
       "      <td>1.000000</td>\n",
       "    </tr>\n",
       "  </tbody>\n",
       "</table>\n",
       "</div>"
      ],
      "text/plain": [
       "                                   id  in_reply_to_user_id  \\\n",
       "id                           1.000000            -0.009327   \n",
       "in_reply_to_user_id         -0.009327             1.000000   \n",
       "user.statuses_count         -0.030182             0.307408   \n",
       "user.followers_count        -0.000007            -0.000940   \n",
       "user.friends_count           0.003039             0.071367   \n",
       "user.favourites_count        0.016018             0.100630   \n",
       "user.geo_enabled            -0.000259            -0.057485   \n",
       "user.is_translation_enabled -0.007774            -0.024408   \n",
       "user.listed_count            0.001763            -0.047139   \n",
       "retweet_count                0.012381            -0.021664   \n",
       "\n",
       "                             user.statuses_count  user.followers_count  \\\n",
       "id                                     -0.030182             -0.000007   \n",
       "in_reply_to_user_id                     0.307408             -0.000940   \n",
       "user.statuses_count                     1.000000              0.052894   \n",
       "user.followers_count                    0.052894              1.000000   \n",
       "user.friends_count                      0.127003              0.136822   \n",
       "user.favourites_count                   0.024958              0.022280   \n",
       "user.geo_enabled                        0.077813             -0.035867   \n",
       "user.is_translation_enabled             0.040412              0.310828   \n",
       "user.listed_count                       0.054768              0.845898   \n",
       "retweet_count                          -0.009976              0.577299   \n",
       "\n",
       "                             user.friends_count  user.favourites_count  \\\n",
       "id                                     0.003039               0.016018   \n",
       "in_reply_to_user_id                    0.071367               0.100630   \n",
       "user.statuses_count                    0.127003               0.024958   \n",
       "user.followers_count                   0.136822               0.022280   \n",
       "user.friends_count                     1.000000               0.179443   \n",
       "user.favourites_count                  0.179443               1.000000   \n",
       "user.geo_enabled                       0.008857               0.080932   \n",
       "user.is_translation_enabled            0.025236               0.018860   \n",
       "user.listed_count                      0.099393               0.020612   \n",
       "retweet_count                          0.057979               0.000729   \n",
       "\n",
       "                             user.geo_enabled  user.is_translation_enabled  \\\n",
       "id                                  -0.000259                    -0.007774   \n",
       "in_reply_to_user_id                 -0.057485                    -0.024408   \n",
       "user.statuses_count                  0.077813                     0.040412   \n",
       "user.followers_count                -0.035867                     0.310828   \n",
       "user.friends_count                   0.008857                     0.025236   \n",
       "user.favourites_count                0.080932                     0.018860   \n",
       "user.geo_enabled                     1.000000                    -0.010995   \n",
       "user.is_translation_enabled         -0.010995                     1.000000   \n",
       "user.listed_count                   -0.026231                     0.272556   \n",
       "retweet_count                       -0.011232                     0.089645   \n",
       "\n",
       "                             user.listed_count  retweet_count  \n",
       "id                                    0.001763       0.012381  \n",
       "in_reply_to_user_id                  -0.047139      -0.021664  \n",
       "user.statuses_count                   0.054768      -0.009976  \n",
       "user.followers_count                  0.845898       0.577299  \n",
       "user.friends_count                    0.099393       0.057979  \n",
       "user.favourites_count                 0.020612       0.000729  \n",
       "user.geo_enabled                     -0.026231      -0.011232  \n",
       "user.is_translation_enabled           0.272556       0.089645  \n",
       "user.listed_count                     1.000000       0.641381  \n",
       "retweet_count                         0.641381       1.000000  "
      ]
     },
     "execution_count": 7,
     "metadata": {},
     "output_type": "execute_result"
    }
   ],
   "source": [
    "train.corr()"
   ]
  },
  {
   "cell_type": "markdown",
   "metadata": {},
   "source": [
    "Посмотрим с какими строчками больше всего корелирует retweet_count. Довольно ожидаема вылезла зависимость между user.followers_count и user.listed_count. На данной стадии user.followers_count - главный признак. \n",
    "\n",
    "Теперь поработаем с самым главным - текстом твитов. Проверим самые простые признаки, которые из него можно вытянуть - длину сообщения, количество ссылок на другие аккаунты(@Name), количество хэштегов(#), и наличием ссылки на сторонний ресурс."
   ]
  },
  {
   "cell_type": "code",
   "execution_count": 8,
   "metadata": {
    "collapsed": false
   },
   "outputs": [],
   "source": [
    "def symbol_count(symbol, string):\n",
    "    count = 0\n",
    "    for i in range(len(string)):\n",
    "        if symbol == string[i]:\n",
    "            count+=1 \n",
    "    return count\n",
    "\n",
    "def text_params(text):\n",
    "    param1 = []\n",
    "    param2 = []\n",
    "    param3 = []\n",
    "    param4 = []\n",
    "    for word in text:\n",
    "        param1.append(len(str(word))) # длинна текста\n",
    "        param2.append(symbol_count('@', str(word))) # количество ссылок на другие аккаунты\n",
    "        param3.append(symbol_count('#', str(word))) # количество хэштегов\n",
    "        param4.append('http' in str(word)) # есть ли ссылка на сторонний ресурс\n",
    "        \n",
    "    return [param1, param2, param3, param4]"
   ]
  },
  {
   "cell_type": "code",
   "execution_count": 9,
   "metadata": {
    "collapsed": false
   },
   "outputs": [],
   "source": [
    "params = text_params(train['text'])\n",
    "\n",
    "train.insert(2, 'text_length', params[0])\n",
    "train.insert(3, 'text_account_count', params[1])\n",
    "train.insert(4, 'text_hashtag_count', params[2])\n",
    "train.insert(5, 'text_is_website_enabled', params[3])"
   ]
  },
  {
   "cell_type": "markdown",
   "metadata": {},
   "source": [
    "# Построение выборки"
   ]
  },
  {
   "cell_type": "code",
   "execution_count": 10,
   "metadata": {
    "collapsed": false
   },
   "outputs": [
    {
     "data": {
      "text/html": [
       "<div>\n",
       "<table border=\"1\" class=\"dataframe\">\n",
       "  <thead>\n",
       "    <tr style=\"text-align: right;\">\n",
       "      <th></th>\n",
       "      <th>id</th>\n",
       "      <th>text</th>\n",
       "      <th>text_length</th>\n",
       "      <th>text_account_count</th>\n",
       "      <th>text_hashtag_count</th>\n",
       "      <th>text_is_website_enabled</th>\n",
       "      <th>in_reply_to_user_id</th>\n",
       "      <th>user.description</th>\n",
       "      <th>user.location</th>\n",
       "      <th>user.lang</th>\n",
       "      <th>user.statuses_count</th>\n",
       "      <th>user.followers_count</th>\n",
       "      <th>user.friends_count</th>\n",
       "      <th>user.favourites_count</th>\n",
       "      <th>user.geo_enabled</th>\n",
       "      <th>user.is_translation_enabled</th>\n",
       "      <th>user.listed_count</th>\n",
       "      <th>retweet_count</th>\n",
       "    </tr>\n",
       "  </thead>\n",
       "  <tbody>\n",
       "    <tr>\n",
       "      <th>30006</th>\n",
       "      <td>629662292427157508</td>\n",
       "      <td>Puerto Rico is the new Greece  https://t.co/FD...</td>\n",
       "      <td>54</td>\n",
       "      <td>0</td>\n",
       "      <td>0</td>\n",
       "      <td>True</td>\n",
       "      <td>False</td>\n",
       "      <td>VC @FirstRound and BD always. Technology histo...</td>\n",
       "      <td>NYC and PHL mostly</td>\n",
       "      <td>en</td>\n",
       "      <td>12954</td>\n",
       "      <td>9692</td>\n",
       "      <td>1692</td>\n",
       "      <td>2662</td>\n",
       "      <td>True</td>\n",
       "      <td>False</td>\n",
       "      <td>549</td>\n",
       "      <td>0</td>\n",
       "    </tr>\n",
       "    <tr>\n",
       "      <th>14145</th>\n",
       "      <td>629678103179210752</td>\n",
       "      <td>Surprise 70th bday party /(&amp;amp; 20-person gol...</td>\n",
       "      <td>124</td>\n",
       "      <td>1</td>\n",
       "      <td>0</td>\n",
       "      <td>True</td>\n",
       "      <td>False</td>\n",
       "      <td>I like snowboards, foursquare and unemployment.</td>\n",
       "      <td>nyc / kingston</td>\n",
       "      <td>en</td>\n",
       "      <td>45371</td>\n",
       "      <td>79241</td>\n",
       "      <td>1476</td>\n",
       "      <td>2330</td>\n",
       "      <td>True</td>\n",
       "      <td>False</td>\n",
       "      <td>4345</td>\n",
       "      <td>1</td>\n",
       "    </tr>\n",
       "    <tr>\n",
       "      <th>8877</th>\n",
       "      <td>629683426694664192</td>\n",
       "      <td>OMG my brother-in-law Brian just hit a 107 yar...</td>\n",
       "      <td>110</td>\n",
       "      <td>1</td>\n",
       "      <td>1</td>\n",
       "      <td>True</td>\n",
       "      <td>False</td>\n",
       "      <td>I like snowboards, foursquare and unemployment.</td>\n",
       "      <td>nyc / kingston</td>\n",
       "      <td>en</td>\n",
       "      <td>45371</td>\n",
       "      <td>79241</td>\n",
       "      <td>1476</td>\n",
       "      <td>2330</td>\n",
       "      <td>True</td>\n",
       "      <td>False</td>\n",
       "      <td>4345</td>\n",
       "      <td>0</td>\n",
       "    </tr>\n",
       "    <tr>\n",
       "      <th>3791</th>\n",
       "      <td>629688126580002816</td>\n",
       "      <td>Yahoo uses Periscope. https://t.co/TAYrlpXLxn</td>\n",
       "      <td>45</td>\n",
       "      <td>0</td>\n",
       "      <td>0</td>\n",
       "      <td>True</td>\n",
       "      <td>False</td>\n",
       "      <td>Married to @crystale, dad to @CCEleven &amp; @Circ...</td>\n",
       "      <td>NaN</td>\n",
       "      <td>en</td>\n",
       "      <td>40407</td>\n",
       "      <td>1616444</td>\n",
       "      <td>867</td>\n",
       "      <td>123811</td>\n",
       "      <td>True</td>\n",
       "      <td>False</td>\n",
       "      <td>10506</td>\n",
       "      <td>8</td>\n",
       "    </tr>\n",
       "    <tr>\n",
       "      <th>6093</th>\n",
       "      <td>629685761026166784</td>\n",
       "      <td>Lots of people applaud @realDonaldTrump for ho...</td>\n",
       "      <td>138</td>\n",
       "      <td>2</td>\n",
       "      <td>0</td>\n",
       "      <td>False</td>\n",
       "      <td>False</td>\n",
       "      <td>Dir. Audience Development (@TCTotem), author (...</td>\n",
       "      <td>Toronto, ON</td>\n",
       "      <td>en</td>\n",
       "      <td>54026</td>\n",
       "      <td>51351</td>\n",
       "      <td>3307</td>\n",
       "      <td>3895</td>\n",
       "      <td>True</td>\n",
       "      <td>False</td>\n",
       "      <td>3948</td>\n",
       "      <td>2</td>\n",
       "    </tr>\n",
       "  </tbody>\n",
       "</table>\n",
       "</div>"
      ],
      "text/plain": [
       "                       id                                               text  \\\n",
       "30006  629662292427157508  Puerto Rico is the new Greece  https://t.co/FD...   \n",
       "14145  629678103179210752  Surprise 70th bday party /(&amp; 20-person gol...   \n",
       "8877   629683426694664192  OMG my brother-in-law Brian just hit a 107 yar...   \n",
       "3791   629688126580002816      Yahoo uses Periscope. https://t.co/TAYrlpXLxn   \n",
       "6093   629685761026166784  Lots of people applaud @realDonaldTrump for ho...   \n",
       "\n",
       "       text_length  text_account_count  text_hashtag_count  \\\n",
       "30006           54                   0                   0   \n",
       "14145          124                   1                   0   \n",
       "8877           110                   1                   1   \n",
       "3791            45                   0                   0   \n",
       "6093           138                   2                   0   \n",
       "\n",
       "      text_is_website_enabled in_reply_to_user_id  \\\n",
       "30006                    True               False   \n",
       "14145                    True               False   \n",
       "8877                     True               False   \n",
       "3791                     True               False   \n",
       "6093                    False               False   \n",
       "\n",
       "                                        user.description       user.location  \\\n",
       "30006  VC @FirstRound and BD always. Technology histo...  NYC and PHL mostly   \n",
       "14145    I like snowboards, foursquare and unemployment.      nyc / kingston   \n",
       "8877     I like snowboards, foursquare and unemployment.      nyc / kingston   \n",
       "3791   Married to @crystale, dad to @CCEleven & @Circ...                 NaN   \n",
       "6093   Dir. Audience Development (@TCTotem), author (...         Toronto, ON   \n",
       "\n",
       "      user.lang  user.statuses_count  user.followers_count  \\\n",
       "30006        en                12954                  9692   \n",
       "14145        en                45371                 79241   \n",
       "8877         en                45371                 79241   \n",
       "3791         en                40407               1616444   \n",
       "6093         en                54026                 51351   \n",
       "\n",
       "       user.friends_count  user.favourites_count user.geo_enabled  \\\n",
       "30006                1692                   2662             True   \n",
       "14145                1476                   2330             True   \n",
       "8877                 1476                   2330             True   \n",
       "3791                  867                 123811             True   \n",
       "6093                 3307                   3895             True   \n",
       "\n",
       "      user.is_translation_enabled  user.listed_count  retweet_count  \n",
       "30006                       False                549              0  \n",
       "14145                       False               4345              1  \n",
       "8877                        False               4345              0  \n",
       "3791                        False              10506              8  \n",
       "6093                        False               3948              2  "
      ]
     },
     "execution_count": 10,
     "metadata": {},
     "output_type": "execute_result"
    }
   ],
   "source": [
    "train[:5]"
   ]
  },
  {
   "cell_type": "code",
   "execution_count": 11,
   "metadata": {
    "collapsed": false
   },
   "outputs": [],
   "source": [
    "def features(df):\n",
    "    return np.array([\n",
    "        df['text_length'],\n",
    "        df['text_account_count'],\n",
    "        df['text_hashtag_count'],\n",
    "        df['user.statuses_count'],\n",
    "        df['user.followers_count'],\n",
    "        df['user.friends_count'],\n",
    "        df['user.favourites_count'],\n",
    "        df['text_is_website_enabled'],\n",
    "        df['user.geo_enabled'],\n",
    "        df['user.is_translation_enabled'],\n",
    "        df['user.listed_count']\n",
    "    ]).transpose()\n",
    "\n",
    "train_X = features(train)\n",
    "train_Y = np.array(train['retweet_count'] > 20).transpose()"
   ]
  },
  {
   "cell_type": "markdown",
   "metadata": {},
   "source": [
    "# Кросс-валидация "
   ]
  },
  {
   "cell_type": "markdown",
   "metadata": {},
   "source": [
    "В самом начале выборка была отсортирована по пользователям, поэтому используя разбиение KFolds c shuffle=False, мы получим хорошое разбиение на тренировочную и тестовую выборку. Можно было делать разбиение выборки по пользователям (так тренировочные и тестовые не будут пересекаться), но я решил пренебречь возможным пересечением выборок по 1 пользователю с целью сохранить одинаковое процентное соотношение тестовой и обучающей выборки."
   ]
  },
  {
   "cell_type": "code",
   "execution_count": 12,
   "metadata": {
    "collapsed": false
   },
   "outputs": [],
   "source": [
    "def validation(classifier_type, data_X, data_Y):\n",
    "    from sklearn import cross_validation\n",
    "    \n",
    "    scorer = []\n",
    "    validation = cross_validation.KFold(len(data_X), n_folds=5, shuffle=False, random_state=1)\n",
    "    for train_index, test_index in validation:\n",
    "        classifier = classifier_type()\n",
    "        classifier.fit(data_X[train_index], data_Y[train_index])\n",
    "        proba = classifier.predict_proba(data_X[test_index])\n",
    "        test = classifier.predict_proba(data_X[train_index])\n",
    "        scorer.append([roc_auc_score(data_Y[test_index], proba[:,1]),roc_auc_score(data_Y[train_index], test[:,1])])\n",
    "    return scorer"
   ]
  },
  {
   "cell_type": "markdown",
   "metadata": {},
   "source": [
    "# Предварительная оценка первой модели"
   ]
  },
  {
   "cell_type": "code",
   "execution_count": 13,
   "metadata": {
    "collapsed": false
   },
   "outputs": [
    {
     "name": "stdout",
     "output_type": "stream",
     "text": [
      "[0.64592619340601254, 0.038774771368768356, 0.99998748261545722, 1.3023880159233403e-06]\n"
     ]
    },
    {
     "data": {
      "text/plain": [
       "array([[ 0.71849201,  0.99998913],\n",
       "       [ 0.63185754,  0.99998661],\n",
       "       [ 0.64257711,  0.99998734],\n",
       "       [ 0.63450483,  0.99998562],\n",
       "       [ 0.60219947,  0.99998871]])"
      ]
     },
     "execution_count": 13,
     "metadata": {},
     "output_type": "execute_result"
    }
   ],
   "source": [
    "from sklearn.tree import DecisionTreeClassifier\n",
    "\n",
    "scorer = np.array(validation(DecisionTreeClassifier, train_X, train_Y))\n",
    "print([scorer[:,0].mean(), scorer[:,0].std(),scorer[:,1].mean(), scorer[:,1].std()])\n",
    "scorer"
   ]
  },
  {
   "cell_type": "markdown",
   "metadata": {},
   "source": [
    "Первая колонка - значения на тестовой выборке, вторая - на обучающей.\n",
    "\n",
    "Вывод: если использовать метод из демоверсии, то получается просто ужаснейшее переобучение. Используем другой классификатор."
   ]
  },
  {
   "cell_type": "code",
   "execution_count": 14,
   "metadata": {
    "collapsed": false
   },
   "outputs": [
    {
     "name": "stdout",
     "output_type": "stream",
     "text": [
      "[0.89047031756003903, 0.017928058330680632, 0.92153204565500935, 0.0021845700617367687]\n"
     ]
    },
    {
     "data": {
      "text/plain": [
       "array([[ 0.91186907,  0.91799599],\n",
       "       [ 0.88807341,  0.92235506],\n",
       "       [ 0.90411234,  0.9207921 ],\n",
       "       [ 0.85957943,  0.92470277],\n",
       "       [ 0.88871735,  0.92181431]])"
      ]
     },
     "execution_count": 14,
     "metadata": {},
     "output_type": "execute_result"
    }
   ],
   "source": [
    "from sklearn.ensemble import GradientBoostingClassifier\n",
    "\n",
    "scorer = np.array(validation(GradientBoostingClassifier, train_X, train_Y))\n",
    "print([scorer[:,0].mean(), scorer[:,0].std(),scorer[:,1].mean(), scorer[:,1].std()])\n",
    "scorer"
   ]
  },
  {
   "cell_type": "markdown",
   "metadata": {},
   "source": [
    "Дела обстаят более реалестично. Но попробуем сделать ещё лучше."
   ]
  },
  {
   "cell_type": "markdown",
   "metadata": {
    "collapsed": true
   },
   "source": [
    "# Продолжение исследований признаков"
   ]
  },
  {
   "cell_type": "code",
   "execution_count": 15,
   "metadata": {
    "collapsed": false
   },
   "outputs": [
    {
     "data": {
      "text/plain": [
       "en                    65971\n",
       "en-gb                   563\n",
       "fr                      146\n",
       "es                      139\n",
       "de                       96\n",
       "it                       82\n",
       "nl                       75\n",
       "ja                       60\n",
       "ru                       23\n",
       "pt                       16\n",
       "tr                       13\n",
       "en-GB                     5\n",
       "ko                        4\n",
       "sv                        4\n",
       "ca                        4\n",
       "pl                        2\n",
       "Select Language...        1\n",
       "uk                        1\n",
       "da                        1\n",
       "fi                        1\n",
       "no                        1\n",
       "xx-lc                     1\n",
       "zh-cn                     1\n",
       "ar                        1\n",
       "Name: user.lang, dtype: int64"
      ]
     },
     "execution_count": 15,
     "metadata": {},
     "output_type": "execute_result"
    }
   ],
   "source": [
    "train['user.lang'].value_counts()"
   ]
  },
  {
   "cell_type": "markdown",
   "metadata": {},
   "source": [
    "Подавляющее преимущество тэгов \"en\". Проверим есть ли существенное отличие между группами. Но для начала опустим языки, в которых меньше 10 представителей."
   ]
  },
  {
   "cell_type": "code",
   "execution_count": 16,
   "metadata": {
    "collapsed": false,
    "scrolled": true
   },
   "outputs": [
    {
     "data": {
      "text/plain": [
       "en              65971\n",
       "en-gb             563\n",
       "fr                146\n",
       "es                139\n",
       "de                 96\n",
       "it                 82\n",
       "nl                 75\n",
       "ja                 60\n",
       "unimportante       27\n",
       "ru                 23\n",
       "pt                 16\n",
       "tr                 13\n",
       "Name: user.lang, dtype: int64"
      ]
     },
     "execution_count": 16,
     "metadata": {},
     "output_type": "execute_result"
    }
   ],
   "source": [
    "def param_popular(param, param_count, pop):\n",
    "    data = []\n",
    "    for i in param: \n",
    "        if param_count[i]>pop:\n",
    "            data.append(i)\n",
    "    return data\n",
    "\n",
    "def param_del(param, data_param):\n",
    "    data = []\n",
    "    for i in data_param:\n",
    "        if i in param:\n",
    "            data.append(i)\n",
    "        else:\n",
    "            data.append('unimportante')\n",
    "    return data\n",
    "    \n",
    "\n",
    "lang = param_popular(train['user.lang'].unique(), train['user.lang'].value_counts(), 10) # удалим редковстречающиеся языки\n",
    "train['user.lang'] = param_del(lang, train['user.lang']) # заменим такие языки на 'unimportante'\n",
    "lang.append('unimportante')\n",
    "train['user.lang'].value_counts()"
   ]
  },
  {
   "cell_type": "code",
   "execution_count": 17,
   "metadata": {
    "collapsed": false
   },
   "outputs": [],
   "source": [
    "test['user.lang'] = param_del(lang, test['user.lang']) # тоже самое для тестовой выборки"
   ]
  },
  {
   "cell_type": "code",
   "execution_count": 18,
   "metadata": {
    "collapsed": true
   },
   "outputs": [],
   "source": [
    "def over20(data):\n",
    "    return data[data['retweet_count']>20]\n",
    "\n",
    "def over20_percent(data):\n",
    "    return len(data[data['retweet_count']>20])/len(data)"
   ]
  },
  {
   "cell_type": "code",
   "execution_count": 19,
   "metadata": {
    "collapsed": false
   },
   "outputs": [
    {
     "data": {
      "text/plain": [
       "{'de': 0.08333333333333333,\n",
       " 'en': 0.06398265904715708,\n",
       " 'en-gb': 0.06216696269982238,\n",
       " 'es': 0.10071942446043165,\n",
       " 'fr': 0.06164383561643835,\n",
       " 'it': 0.13414634146341464,\n",
       " 'ja': 0.11666666666666667,\n",
       " 'nl': 0.10666666666666667,\n",
       " 'pt': 0.25,\n",
       " 'ru': 0.08695652173913043,\n",
       " 'tr': 0.23076923076923078,\n",
       " 'unimportante': 0.18518518518518517}"
      ]
     },
     "execution_count": 19,
     "metadata": {},
     "output_type": "execute_result"
    }
   ],
   "source": [
    "# Посмотрим есть ли минимальная предрасположенность\n",
    "lang_param = {lang[i]: over20_percent(train[train['user.lang'] == lang[i]]) for i in range(len(lang))}\n",
    "lang_param"
   ]
  },
  {
   "cell_type": "code",
   "execution_count": 20,
   "metadata": {
    "collapsed": false
   },
   "outputs": [],
   "source": [
    "train['user.lang'] = [lang_param[i] for i in train['user.lang']] # заменяем языки на численные значения\n",
    "test['user.lang'] = [lang_param[i] for i in test['user.lang']] # заменяем языки на численные значения"
   ]
  },
  {
   "cell_type": "markdown",
   "metadata": {},
   "source": [
    "Так как не важных признаков получилось не много (27 и 34 в тренировочной и тестовой выборках соответственно), то можно использовать как признак: средний процент сообщений с больше чем 20-ью ретвитами по данному языку. \n",
    "\n",
    "Посмотрим какая ситуация обстоит с местоположением."
   ]
  },
  {
   "cell_type": "code",
   "execution_count": 21,
   "metadata": {
    "collapsed": false
   },
   "outputs": [
    {
     "data": {
      "text/plain": [
       "[5680, 5654, 1223]"
      ]
     },
     "execution_count": 21,
     "metadata": {},
     "output_type": "execute_result"
    }
   ],
   "source": [
    "train_locations = train['user.location'].unique()\n",
    "test_locations = test['user.location'].unique()\n",
    "locations_inter = [val for val in train_locations if val in test_locations]\n",
    "[len(train_locations), len(test_locations), len(locations_inter)]"
   ]
  },
  {
   "cell_type": "markdown",
   "metadata": {},
   "source": [
    "Пересечение очень слабое, попробуем убрать непопулярные места и снова посмотреть пересечение."
   ]
  },
  {
   "cell_type": "code",
   "execution_count": 22,
   "metadata": {
    "collapsed": false
   },
   "outputs": [
    {
     "data": {
      "text/plain": [
       "[388, 400, 177]"
      ]
     },
     "execution_count": 22,
     "metadata": {},
     "output_type": "execute_result"
    }
   ],
   "source": [
    "train['user.location'] = train['user.location'].astype(object).replace(np.nan, 'None') # заменем обекты Nan на текст None\n",
    "test['user.location'] = test['user.location'].astype(object).replace(np.nan, 'None') # и в тестовой выборке\n",
    "\n",
    "train_loc = param_popular(train['user.location'].unique(), train['user.location'].value_counts(), 20) \n",
    "train['user.location'] = param_del(train_loc, train['user.location']) \n",
    "train_loc.append('unimportante')        #замена непопулярных локаций на unimportant\n",
    "\n",
    "test_loc = param_popular(test['user.location'].unique(), test['user.location'].value_counts(), 20) \n",
    "test_loc.append('unimportante')\n",
    "\n",
    "locations_popular_inter_ = [val for val in train_loc if val in test_loc]\n",
    "[len(train_loc), len(test_loc), len(locations_popular_inter_)]"
   ]
  },
  {
   "cell_type": "code",
   "execution_count": 23,
   "metadata": {
    "collapsed": false
   },
   "outputs": [
    {
     "data": {
      "text/plain": [
       "44.818556486289445"
      ]
     },
     "execution_count": 23,
     "metadata": {},
     "output_type": "execute_result"
    }
   ],
   "source": [
    "# процент пустых и малозначимых полей\n",
    "100*(train['user.location'].value_counts()['unimportante']+train['user.location'].value_counts()['None'])/len(train['user.location'])"
   ]
  },
  {
   "cell_type": "markdown",
   "metadata": {},
   "source": [
    "Получается, что только чуть больше половины выборки имеет информативную ценность, и чуть меньше половины этих информативных данных встретятся в тестовой выборке. Насколько этот признак будет хорош - сказать трудно, лучше посмотреть, как будет работать классификатор с ним и без него. Но в обучающую выборку мы его занесём"
   ]
  },
  {
   "cell_type": "code",
   "execution_count": 24,
   "metadata": {
    "collapsed": false
   },
   "outputs": [],
   "source": [
    "loc_param = {train_loc[i]: over20_percent(train[train['user.location'] == train_loc[i]]) for i in range(len(train_loc))}\n",
    "train['user.location'] = [loc_param[i] for i in train['user.location']]"
   ]
  },
  {
   "cell_type": "code",
   "execution_count": 25,
   "metadata": {
    "collapsed": false
   },
   "outputs": [],
   "source": [
    "test['user.location'] = param_del(train_loc, test['user.location']) # не забываем про тестовую\n",
    "test['user.location'] = [loc_param[i] for i in test['user.location']]"
   ]
  },
  {
   "cell_type": "markdown",
   "metadata": {},
   "source": [
    "Попробуем, покопаться в текстовом поле user.description. Вытянем из него те же признаки как для текстового поля сообщения. Есть подозрения что в этом поле нету никаких информативных признаков."
   ]
  },
  {
   "cell_type": "code",
   "execution_count": 26,
   "metadata": {
    "collapsed": false
   },
   "outputs": [],
   "source": [
    "params = text_params(train['user.description'])\n",
    "\n",
    "train.insert(6, 'user.description_length', params[0])\n",
    "train.insert(7, 'user.description_account_count', params[1])\n",
    "train.insert(8, 'user.description_hashtag_count', params[2])\n",
    "train.insert(9, 'user.description_is_website_enabled', params[3])"
   ]
  },
  {
   "cell_type": "code",
   "execution_count": 27,
   "metadata": {
    "collapsed": false
   },
   "outputs": [
    {
     "data": {
      "text/html": [
       "<div>\n",
       "<table border=\"1\" class=\"dataframe\">\n",
       "  <thead>\n",
       "    <tr style=\"text-align: right;\">\n",
       "      <th></th>\n",
       "      <th>text_length</th>\n",
       "      <th>text_account_count</th>\n",
       "      <th>text_hashtag_count</th>\n",
       "      <th>text_is_website_enabled</th>\n",
       "      <th>user.description_length</th>\n",
       "      <th>user.description_account_count</th>\n",
       "      <th>user.description_hashtag_count</th>\n",
       "      <th>user.description_is_website_enabled</th>\n",
       "      <th>in_reply_to_user_id</th>\n",
       "      <th>user.location</th>\n",
       "      <th>user.lang</th>\n",
       "      <th>user.statuses_count</th>\n",
       "      <th>user.followers_count</th>\n",
       "      <th>user.friends_count</th>\n",
       "      <th>user.favourites_count</th>\n",
       "      <th>user.geo_enabled</th>\n",
       "      <th>user.is_translation_enabled</th>\n",
       "      <th>user.listed_count</th>\n",
       "      <th>retweet_count</th>\n",
       "    </tr>\n",
       "  </thead>\n",
       "  <tbody>\n",
       "    <tr>\n",
       "      <th>30006</th>\n",
       "      <td>54</td>\n",
       "      <td>0</td>\n",
       "      <td>0</td>\n",
       "      <td>True</td>\n",
       "      <td>74</td>\n",
       "      <td>1</td>\n",
       "      <td>0</td>\n",
       "      <td>False</td>\n",
       "      <td>False</td>\n",
       "      <td>0.06445</td>\n",
       "      <td>0.063983</td>\n",
       "      <td>12954</td>\n",
       "      <td>9692</td>\n",
       "      <td>1692</td>\n",
       "      <td>2662</td>\n",
       "      <td>True</td>\n",
       "      <td>False</td>\n",
       "      <td>549</td>\n",
       "      <td>0</td>\n",
       "    </tr>\n",
       "    <tr>\n",
       "      <th>14145</th>\n",
       "      <td>124</td>\n",
       "      <td>1</td>\n",
       "      <td>0</td>\n",
       "      <td>True</td>\n",
       "      <td>47</td>\n",
       "      <td>0</td>\n",
       "      <td>0</td>\n",
       "      <td>False</td>\n",
       "      <td>False</td>\n",
       "      <td>0.06445</td>\n",
       "      <td>0.063983</td>\n",
       "      <td>45371</td>\n",
       "      <td>79241</td>\n",
       "      <td>1476</td>\n",
       "      <td>2330</td>\n",
       "      <td>True</td>\n",
       "      <td>False</td>\n",
       "      <td>4345</td>\n",
       "      <td>1</td>\n",
       "    </tr>\n",
       "    <tr>\n",
       "      <th>8877</th>\n",
       "      <td>110</td>\n",
       "      <td>1</td>\n",
       "      <td>1</td>\n",
       "      <td>True</td>\n",
       "      <td>47</td>\n",
       "      <td>0</td>\n",
       "      <td>0</td>\n",
       "      <td>False</td>\n",
       "      <td>False</td>\n",
       "      <td>0.06445</td>\n",
       "      <td>0.063983</td>\n",
       "      <td>45371</td>\n",
       "      <td>79241</td>\n",
       "      <td>1476</td>\n",
       "      <td>2330</td>\n",
       "      <td>True</td>\n",
       "      <td>False</td>\n",
       "      <td>4345</td>\n",
       "      <td>0</td>\n",
       "    </tr>\n",
       "    <tr>\n",
       "      <th>3791</th>\n",
       "      <td>45</td>\n",
       "      <td>0</td>\n",
       "      <td>0</td>\n",
       "      <td>True</td>\n",
       "      <td>160</td>\n",
       "      <td>7</td>\n",
       "      <td>0</td>\n",
       "      <td>True</td>\n",
       "      <td>False</td>\n",
       "      <td>0.07655</td>\n",
       "      <td>0.063983</td>\n",
       "      <td>40407</td>\n",
       "      <td>1616444</td>\n",
       "      <td>867</td>\n",
       "      <td>123811</td>\n",
       "      <td>True</td>\n",
       "      <td>False</td>\n",
       "      <td>10506</td>\n",
       "      <td>8</td>\n",
       "    </tr>\n",
       "    <tr>\n",
       "      <th>6093</th>\n",
       "      <td>138</td>\n",
       "      <td>2</td>\n",
       "      <td>0</td>\n",
       "      <td>False</td>\n",
       "      <td>155</td>\n",
       "      <td>5</td>\n",
       "      <td>0</td>\n",
       "      <td>True</td>\n",
       "      <td>False</td>\n",
       "      <td>0.06000</td>\n",
       "      <td>0.063983</td>\n",
       "      <td>54026</td>\n",
       "      <td>51351</td>\n",
       "      <td>3307</td>\n",
       "      <td>3895</td>\n",
       "      <td>True</td>\n",
       "      <td>False</td>\n",
       "      <td>3948</td>\n",
       "      <td>2</td>\n",
       "    </tr>\n",
       "  </tbody>\n",
       "</table>\n",
       "</div>"
      ],
      "text/plain": [
       "       text_length  text_account_count  text_hashtag_count  \\\n",
       "30006           54                   0                   0   \n",
       "14145          124                   1                   0   \n",
       "8877           110                   1                   1   \n",
       "3791            45                   0                   0   \n",
       "6093           138                   2                   0   \n",
       "\n",
       "      text_is_website_enabled  user.description_length  \\\n",
       "30006                    True                       74   \n",
       "14145                    True                       47   \n",
       "8877                     True                       47   \n",
       "3791                     True                      160   \n",
       "6093                    False                      155   \n",
       "\n",
       "       user.description_account_count  user.description_hashtag_count  \\\n",
       "30006                               1                               0   \n",
       "14145                               0                               0   \n",
       "8877                                0                               0   \n",
       "3791                                7                               0   \n",
       "6093                                5                               0   \n",
       "\n",
       "      user.description_is_website_enabled in_reply_to_user_id  user.location  \\\n",
       "30006                               False               False        0.06445   \n",
       "14145                               False               False        0.06445   \n",
       "8877                                False               False        0.06445   \n",
       "3791                                 True               False        0.07655   \n",
       "6093                                 True               False        0.06000   \n",
       "\n",
       "       user.lang  user.statuses_count  user.followers_count  \\\n",
       "30006   0.063983                12954                  9692   \n",
       "14145   0.063983                45371                 79241   \n",
       "8877    0.063983                45371                 79241   \n",
       "3791    0.063983                40407               1616444   \n",
       "6093    0.063983                54026                 51351   \n",
       "\n",
       "       user.friends_count  user.favourites_count user.geo_enabled  \\\n",
       "30006                1692                   2662             True   \n",
       "14145                1476                   2330             True   \n",
       "8877                 1476                   2330             True   \n",
       "3791                  867                 123811             True   \n",
       "6093                 3307                   3895             True   \n",
       "\n",
       "      user.is_translation_enabled  user.listed_count  retweet_count  \n",
       "30006                       False                549              0  \n",
       "14145                       False               4345              1  \n",
       "8877                        False               4345              0  \n",
       "3791                        False              10506              8  \n",
       "6093                        False               3948              2  "
      ]
     },
     "execution_count": 27,
     "metadata": {},
     "output_type": "execute_result"
    }
   ],
   "source": [
    "del train['user.description']\n",
    "del train['text']\n",
    "del train['id']\n",
    "\n",
    "train[:5]"
   ]
  },
  {
   "cell_type": "markdown",
   "metadata": {},
   "source": [
    "# Повторное построение классификатора"
   ]
  },
  {
   "cell_type": "code",
   "execution_count": 28,
   "metadata": {
    "collapsed": false
   },
   "outputs": [],
   "source": [
    "signs = train.columns.values # вытягиваем название колонок \n",
    "train_Y = np.array(train[signs[-1]]>20) \n",
    "train_X = np.array(train[signs[:-1]])"
   ]
  },
  {
   "cell_type": "code",
   "execution_count": 29,
   "metadata": {
    "collapsed": false
   },
   "outputs": [
    {
     "name": "stdout",
     "output_type": "stream",
     "text": [
      "[0.91539813876952469, 0.0068799962742319568, 0.93537530537293212, 0.0014590886575695571]\n"
     ]
    },
    {
     "data": {
      "text/plain": [
       "array([[ 0.92848161,  0.93280493],\n",
       "       [ 0.91053513,  0.93723292],\n",
       "       [ 0.91624223,  0.93551718],\n",
       "       [ 0.91102409,  0.93611023],\n",
       "       [ 0.91070763,  0.93521128]])"
      ]
     },
     "execution_count": 29,
     "metadata": {},
     "output_type": "execute_result"
    }
   ],
   "source": [
    "scorer = np.array(validation(GradientBoostingClassifier, train_X, train_Y))\n",
    "print([scorer[:,0].mean(), scorer[:,0].std(), scorer[:,1].mean(), scorer[:,1].std()])\n",
    "scorer"
   ]
  },
  {
   "cell_type": "markdown",
   "metadata": {},
   "source": [
    "Теоретически результаты удалось поднять на 1.7%. Попробуем поочерёдно выкидывать по признаку и тестировать модель снова, возможно мы имеем неинформативный признак приводящий к обучению."
   ]
  },
  {
   "cell_type": "code",
   "execution_count": 30,
   "metadata": {
    "collapsed": false
   },
   "outputs": [],
   "source": [
    "def del_param(X, Y, signs, classifier):\n",
    "    answer = pd.DataFrame(columns = ['id','signs', 'test.mean()', 'test.std()', 'train.mean()'])\n",
    "    scorer = np.array(validation(GradientBoostingClassifier, X, Y))\n",
    "    answer = answer.append([{'id': 100,'signs': 'full', 'test.mean()': scorer[:,0].mean(), 'train.mean()': scorer[:,1].mean(), 'test.std()': scorer[:,0].std()}])\n",
    "    train_Y = Y\n",
    "    for i in range(len(X[1])):\n",
    "        train_X = np.delete(X, i, 1) # удаляем один признак\n",
    "        scorer = np.array(validation(classifier, train_X, train_Y))\n",
    "        answer = answer.append([{'id': i, 'signs': 'without ' + signs[i], 'test.mean()': scorer[:,0].mean(), 'train.mean()': scorer[:,1].mean(), 'test.std()': scorer[:,0].std()}])\n",
    "    return answer.sort_values(by='test.mean()', ascending=False)"
   ]
  },
  {
   "cell_type": "code",
   "execution_count": 32,
   "metadata": {
    "collapsed": false
   },
   "outputs": [
    {
     "data": {
      "text/html": [
       "<div>\n",
       "<table border=\"1\" class=\"dataframe\">\n",
       "  <thead>\n",
       "    <tr style=\"text-align: right;\">\n",
       "      <th></th>\n",
       "      <th>id</th>\n",
       "      <th>signs</th>\n",
       "      <th>test.mean()</th>\n",
       "      <th>test.std()</th>\n",
       "      <th>train.mean()</th>\n",
       "    </tr>\n",
       "  </thead>\n",
       "  <tbody>\n",
       "    <tr>\n",
       "      <th>0</th>\n",
       "      <td>13.0</td>\n",
       "      <td>without user.friends_count</td>\n",
       "      <td>0.916466</td>\n",
       "      <td>0.006535</td>\n",
       "      <td>0.935535</td>\n",
       "    </tr>\n",
       "    <tr>\n",
       "      <th>0</th>\n",
       "      <td>16.0</td>\n",
       "      <td>without user.is_translation_enabled</td>\n",
       "      <td>0.916243</td>\n",
       "      <td>0.006808</td>\n",
       "      <td>0.935166</td>\n",
       "    </tr>\n",
       "    <tr>\n",
       "      <th>0</th>\n",
       "      <td>5.0</td>\n",
       "      <td>without user.description_account_count</td>\n",
       "      <td>0.916235</td>\n",
       "      <td>0.006407</td>\n",
       "      <td>0.935346</td>\n",
       "    </tr>\n",
       "    <tr>\n",
       "      <th>0</th>\n",
       "      <td>4.0</td>\n",
       "      <td>without user.description_length</td>\n",
       "      <td>0.916145</td>\n",
       "      <td>0.006635</td>\n",
       "      <td>0.935185</td>\n",
       "    </tr>\n",
       "    <tr>\n",
       "      <th>0</th>\n",
       "      <td>7.0</td>\n",
       "      <td>without user.description_is_website_enabled</td>\n",
       "      <td>0.916004</td>\n",
       "      <td>0.006773</td>\n",
       "      <td>0.935277</td>\n",
       "    </tr>\n",
       "    <tr>\n",
       "      <th>0</th>\n",
       "      <td>10.0</td>\n",
       "      <td>without user.lang</td>\n",
       "      <td>0.916004</td>\n",
       "      <td>0.006757</td>\n",
       "      <td>0.935205</td>\n",
       "    </tr>\n",
       "    <tr>\n",
       "      <th>0</th>\n",
       "      <td>2.0</td>\n",
       "      <td>without text_hashtag_count</td>\n",
       "      <td>0.915981</td>\n",
       "      <td>0.006628</td>\n",
       "      <td>0.935071</td>\n",
       "    </tr>\n",
       "    <tr>\n",
       "      <th>0</th>\n",
       "      <td>6.0</td>\n",
       "      <td>without user.description_hashtag_count</td>\n",
       "      <td>0.915771</td>\n",
       "      <td>0.007177</td>\n",
       "      <td>0.935314</td>\n",
       "    </tr>\n",
       "    <tr>\n",
       "      <th>0</th>\n",
       "      <td>15.0</td>\n",
       "      <td>without user.geo_enabled</td>\n",
       "      <td>0.915685</td>\n",
       "      <td>0.006915</td>\n",
       "      <td>0.935435</td>\n",
       "    </tr>\n",
       "    <tr>\n",
       "      <th>0</th>\n",
       "      <td>100.0</td>\n",
       "      <td>full</td>\n",
       "      <td>0.915541</td>\n",
       "      <td>0.006700</td>\n",
       "      <td>0.935493</td>\n",
       "    </tr>\n",
       "    <tr>\n",
       "      <th>0</th>\n",
       "      <td>17.0</td>\n",
       "      <td>without user.listed_count</td>\n",
       "      <td>0.915473</td>\n",
       "      <td>0.007835</td>\n",
       "      <td>0.934679</td>\n",
       "    </tr>\n",
       "    <tr>\n",
       "      <th>0</th>\n",
       "      <td>3.0</td>\n",
       "      <td>without text_is_website_enabled</td>\n",
       "      <td>0.915369</td>\n",
       "      <td>0.006681</td>\n",
       "      <td>0.934977</td>\n",
       "    </tr>\n",
       "    <tr>\n",
       "      <th>0</th>\n",
       "      <td>1.0</td>\n",
       "      <td>without text_account_count</td>\n",
       "      <td>0.915122</td>\n",
       "      <td>0.006778</td>\n",
       "      <td>0.934925</td>\n",
       "    </tr>\n",
       "    <tr>\n",
       "      <th>0</th>\n",
       "      <td>14.0</td>\n",
       "      <td>without user.favourites_count</td>\n",
       "      <td>0.915029</td>\n",
       "      <td>0.006978</td>\n",
       "      <td>0.934051</td>\n",
       "    </tr>\n",
       "    <tr>\n",
       "      <th>0</th>\n",
       "      <td>0.0</td>\n",
       "      <td>without text_length</td>\n",
       "      <td>0.914569</td>\n",
       "      <td>0.006795</td>\n",
       "      <td>0.934702</td>\n",
       "    </tr>\n",
       "    <tr>\n",
       "      <th>0</th>\n",
       "      <td>9.0</td>\n",
       "      <td>without user.location</td>\n",
       "      <td>0.911509</td>\n",
       "      <td>0.006772</td>\n",
       "      <td>0.931315</td>\n",
       "    </tr>\n",
       "    <tr>\n",
       "      <th>0</th>\n",
       "      <td>11.0</td>\n",
       "      <td>without user.statuses_count</td>\n",
       "      <td>0.910727</td>\n",
       "      <td>0.007819</td>\n",
       "      <td>0.927882</td>\n",
       "    </tr>\n",
       "    <tr>\n",
       "      <th>0</th>\n",
       "      <td>12.0</td>\n",
       "      <td>without user.followers_count</td>\n",
       "      <td>0.899975</td>\n",
       "      <td>0.014821</td>\n",
       "      <td>0.922157</td>\n",
       "    </tr>\n",
       "    <tr>\n",
       "      <th>0</th>\n",
       "      <td>8.0</td>\n",
       "      <td>without in_reply_to_user_id</td>\n",
       "      <td>0.898528</td>\n",
       "      <td>0.017740</td>\n",
       "      <td>0.927827</td>\n",
       "    </tr>\n",
       "  </tbody>\n",
       "</table>\n",
       "</div>"
      ],
      "text/plain": [
       "      id                                        signs  test.mean()  \\\n",
       "0   13.0                   without user.friends_count     0.916466   \n",
       "0   16.0          without user.is_translation_enabled     0.916243   \n",
       "0    5.0       without user.description_account_count     0.916235   \n",
       "0    4.0              without user.description_length     0.916145   \n",
       "0    7.0  without user.description_is_website_enabled     0.916004   \n",
       "0   10.0                            without user.lang     0.916004   \n",
       "0    2.0                   without text_hashtag_count     0.915981   \n",
       "0    6.0       without user.description_hashtag_count     0.915771   \n",
       "0   15.0                     without user.geo_enabled     0.915685   \n",
       "0  100.0                                         full     0.915541   \n",
       "0   17.0                    without user.listed_count     0.915473   \n",
       "0    3.0              without text_is_website_enabled     0.915369   \n",
       "0    1.0                   without text_account_count     0.915122   \n",
       "0   14.0                without user.favourites_count     0.915029   \n",
       "0    0.0                          without text_length     0.914569   \n",
       "0    9.0                        without user.location     0.911509   \n",
       "0   11.0                  without user.statuses_count     0.910727   \n",
       "0   12.0                 without user.followers_count     0.899975   \n",
       "0    8.0                  without in_reply_to_user_id     0.898528   \n",
       "\n",
       "   test.std()  train.mean()  \n",
       "0    0.006535      0.935535  \n",
       "0    0.006808      0.935166  \n",
       "0    0.006407      0.935346  \n",
       "0    0.006635      0.935185  \n",
       "0    0.006773      0.935277  \n",
       "0    0.006757      0.935205  \n",
       "0    0.006628      0.935071  \n",
       "0    0.007177      0.935314  \n",
       "0    0.006915      0.935435  \n",
       "0    0.006700      0.935493  \n",
       "0    0.007835      0.934679  \n",
       "0    0.006681      0.934977  \n",
       "0    0.006778      0.934925  \n",
       "0    0.006978      0.934051  \n",
       "0    0.006795      0.934702  \n",
       "0    0.006772      0.931315  \n",
       "0    0.007819      0.927882  \n",
       "0    0.014821      0.922157  \n",
       "0    0.017740      0.927827  "
      ]
     },
     "execution_count": 32,
     "metadata": {},
     "output_type": "execute_result"
    }
   ],
   "source": [
    "# вычисляется долго, около 15 минут\n",
    "del_param(train_X, train_Y, signs, GradientBoostingClassifier) "
   ]
  },
  {
   "cell_type": "markdown",
   "metadata": {},
   "source": [
    "Будем повторять данную процедуру до тех пор, пока удаление лишнего параметра не перестанет давать результат."
   ]
  },
  {
   "cell_type": "code",
   "execution_count": 33,
   "metadata": {
    "collapsed": true
   },
   "outputs": [],
   "source": [
    "def del_params(X, Y, signs, classifier):\n",
    "    answer = del_param(X, Y, signs, classifier)\n",
    "    while answer.iat[0,1]!='full':\n",
    "        print(answer.iat[0,1])\n",
    "        X = np.delete(X, answer.iat[0,0], 1)\n",
    "        signs = np.delete(signs, answer.iat[0,0], 0)\n",
    "        answer = del_param(X, Y, signs, classifier)\n",
    "    return [answer, signs]"
   ]
  },
  {
   "cell_type": "code",
   "execution_count": 34,
   "metadata": {
    "collapsed": false,
    "scrolled": false
   },
   "outputs": [
    {
     "name": "stdout",
     "output_type": "stream",
     "text": [
      "without user.friends_count\n",
      "without user.is_translation_enabled\n",
      "without user.description_account_count\n"
     ]
    },
    {
     "data": {
      "text/html": [
       "<div>\n",
       "<table border=\"1\" class=\"dataframe\">\n",
       "  <thead>\n",
       "    <tr style=\"text-align: right;\">\n",
       "      <th></th>\n",
       "      <th>id</th>\n",
       "      <th>signs</th>\n",
       "      <th>test.mean()</th>\n",
       "      <th>test.std()</th>\n",
       "      <th>train.mean()</th>\n",
       "    </tr>\n",
       "  </thead>\n",
       "  <tbody>\n",
       "    <tr>\n",
       "      <th>0</th>\n",
       "      <td>100.0</td>\n",
       "      <td>full</td>\n",
       "      <td>0.917465</td>\n",
       "      <td>0.006236</td>\n",
       "      <td>0.935033</td>\n",
       "    </tr>\n",
       "    <tr>\n",
       "      <th>0</th>\n",
       "      <td>6.0</td>\n",
       "      <td>without user.description_is_website_enabled</td>\n",
       "      <td>0.917432</td>\n",
       "      <td>0.006187</td>\n",
       "      <td>0.935033</td>\n",
       "    </tr>\n",
       "    <tr>\n",
       "      <th>0</th>\n",
       "      <td>13.0</td>\n",
       "      <td>without user.geo_enabled</td>\n",
       "      <td>0.917407</td>\n",
       "      <td>0.006144</td>\n",
       "      <td>0.935049</td>\n",
       "    </tr>\n",
       "    <tr>\n",
       "      <th>0</th>\n",
       "      <td>5.0</td>\n",
       "      <td>without user.description_hashtag_count</td>\n",
       "      <td>0.917268</td>\n",
       "      <td>0.006394</td>\n",
       "      <td>0.934985</td>\n",
       "    </tr>\n",
       "    <tr>\n",
       "      <th>0</th>\n",
       "      <td>9.0</td>\n",
       "      <td>without user.lang</td>\n",
       "      <td>0.917105</td>\n",
       "      <td>0.006526</td>\n",
       "      <td>0.934925</td>\n",
       "    </tr>\n",
       "    <tr>\n",
       "      <th>0</th>\n",
       "      <td>4.0</td>\n",
       "      <td>without user.description_length</td>\n",
       "      <td>0.916835</td>\n",
       "      <td>0.006765</td>\n",
       "      <td>0.934646</td>\n",
       "    </tr>\n",
       "    <tr>\n",
       "      <th>0</th>\n",
       "      <td>0.0</td>\n",
       "      <td>without text_length</td>\n",
       "      <td>0.916526</td>\n",
       "      <td>0.005973</td>\n",
       "      <td>0.933899</td>\n",
       "    </tr>\n",
       "    <tr>\n",
       "      <th>0</th>\n",
       "      <td>12.0</td>\n",
       "      <td>without user.favourites_count</td>\n",
       "      <td>0.916510</td>\n",
       "      <td>0.005619</td>\n",
       "      <td>0.933289</td>\n",
       "    </tr>\n",
       "    <tr>\n",
       "      <th>0</th>\n",
       "      <td>2.0</td>\n",
       "      <td>without text_hashtag_count</td>\n",
       "      <td>0.916428</td>\n",
       "      <td>0.006189</td>\n",
       "      <td>0.934841</td>\n",
       "    </tr>\n",
       "    <tr>\n",
       "      <th>0</th>\n",
       "      <td>3.0</td>\n",
       "      <td>without text_is_website_enabled</td>\n",
       "      <td>0.916099</td>\n",
       "      <td>0.006317</td>\n",
       "      <td>0.934446</td>\n",
       "    </tr>\n",
       "    <tr>\n",
       "      <th>0</th>\n",
       "      <td>14.0</td>\n",
       "      <td>without user.listed_count</td>\n",
       "      <td>0.915713</td>\n",
       "      <td>0.007970</td>\n",
       "      <td>0.934055</td>\n",
       "    </tr>\n",
       "    <tr>\n",
       "      <th>0</th>\n",
       "      <td>1.0</td>\n",
       "      <td>without text_account_count</td>\n",
       "      <td>0.915323</td>\n",
       "      <td>0.006721</td>\n",
       "      <td>0.934110</td>\n",
       "    </tr>\n",
       "    <tr>\n",
       "      <th>0</th>\n",
       "      <td>8.0</td>\n",
       "      <td>without user.location</td>\n",
       "      <td>0.912115</td>\n",
       "      <td>0.006653</td>\n",
       "      <td>0.930343</td>\n",
       "    </tr>\n",
       "    <tr>\n",
       "      <th>0</th>\n",
       "      <td>10.0</td>\n",
       "      <td>without user.statuses_count</td>\n",
       "      <td>0.911718</td>\n",
       "      <td>0.007260</td>\n",
       "      <td>0.926594</td>\n",
       "    </tr>\n",
       "    <tr>\n",
       "      <th>0</th>\n",
       "      <td>11.0</td>\n",
       "      <td>without user.followers_count</td>\n",
       "      <td>0.899484</td>\n",
       "      <td>0.013208</td>\n",
       "      <td>0.920023</td>\n",
       "    </tr>\n",
       "    <tr>\n",
       "      <th>0</th>\n",
       "      <td>7.0</td>\n",
       "      <td>without in_reply_to_user_id</td>\n",
       "      <td>0.899175</td>\n",
       "      <td>0.016491</td>\n",
       "      <td>0.927487</td>\n",
       "    </tr>\n",
       "  </tbody>\n",
       "</table>\n",
       "</div>"
      ],
      "text/plain": [
       "      id                                        signs  test.mean()  \\\n",
       "0  100.0                                         full     0.917465   \n",
       "0    6.0  without user.description_is_website_enabled     0.917432   \n",
       "0   13.0                     without user.geo_enabled     0.917407   \n",
       "0    5.0       without user.description_hashtag_count     0.917268   \n",
       "0    9.0                            without user.lang     0.917105   \n",
       "0    4.0              without user.description_length     0.916835   \n",
       "0    0.0                          without text_length     0.916526   \n",
       "0   12.0                without user.favourites_count     0.916510   \n",
       "0    2.0                   without text_hashtag_count     0.916428   \n",
       "0    3.0              without text_is_website_enabled     0.916099   \n",
       "0   14.0                    without user.listed_count     0.915713   \n",
       "0    1.0                   without text_account_count     0.915323   \n",
       "0    8.0                        without user.location     0.912115   \n",
       "0   10.0                  without user.statuses_count     0.911718   \n",
       "0   11.0                 without user.followers_count     0.899484   \n",
       "0    7.0                  without in_reply_to_user_id     0.899175   \n",
       "\n",
       "   test.std()  train.mean()  \n",
       "0    0.006236      0.935033  \n",
       "0    0.006187      0.935033  \n",
       "0    0.006144      0.935049  \n",
       "0    0.006394      0.934985  \n",
       "0    0.006526      0.934925  \n",
       "0    0.006765      0.934646  \n",
       "0    0.005973      0.933899  \n",
       "0    0.005619      0.933289  \n",
       "0    0.006189      0.934841  \n",
       "0    0.006317      0.934446  \n",
       "0    0.007970      0.934055  \n",
       "0    0.006721      0.934110  \n",
       "0    0.006653      0.930343  \n",
       "0    0.007260      0.926594  \n",
       "0    0.013208      0.920023  \n",
       "0    0.016491      0.927487  "
      ]
     },
     "execution_count": 34,
     "metadata": {},
     "output_type": "execute_result"
    }
   ],
   "source": [
    "# вычисляется ещё дольше, около часа\n",
    "train_X_del_params = del_params(train_X, train_Y, signs, GradientBoostingClassifier)\n",
    "train_X_del_params[0]"
   ]
  },
  {
   "cell_type": "markdown",
   "metadata": {},
   "source": [
    "Удалось ещё немного поднять результат на тренировочной выборке. На самом деле, можно было бы выкинуть ещё пару признаков, которые несут минимальное, а возможно и никакого, значения. Протестируем и сравним другие классификаторы. "
   ]
  },
  {
   "cell_type": "code",
   "execution_count": 35,
   "metadata": {
    "collapsed": true
   },
   "outputs": [],
   "source": [
    "signs = train_X_del_params[1] # удаляем найденные признаки из выборки\n",
    "train_Y = np.array(train[signs[-1]]>20) \n",
    "train_X = np.array(train[signs[:-1]])"
   ]
  },
  {
   "cell_type": "code",
   "execution_count": 36,
   "metadata": {
    "collapsed": false,
    "scrolled": false
   },
   "outputs": [
    {
     "data": {
      "text/html": [
       "<div>\n",
       "<table border=\"1\" class=\"dataframe\">\n",
       "  <thead>\n",
       "    <tr style=\"text-align: right;\">\n",
       "      <th></th>\n",
       "      <th>classifier</th>\n",
       "      <th>test.mean()</th>\n",
       "      <th>train.mean()</th>\n",
       "    </tr>\n",
       "  </thead>\n",
       "  <tbody>\n",
       "    <tr>\n",
       "      <th>0</th>\n",
       "      <td>GradientBoosting</td>\n",
       "      <td>0.917497</td>\n",
       "      <td>0.935033</td>\n",
       "    </tr>\n",
       "    <tr>\n",
       "      <th>0</th>\n",
       "      <td>AdaBoosting</td>\n",
       "      <td>0.911620</td>\n",
       "      <td>0.927676</td>\n",
       "    </tr>\n",
       "    <tr>\n",
       "      <th>0</th>\n",
       "      <td>RandomForest</td>\n",
       "      <td>0.842015</td>\n",
       "      <td>0.999666</td>\n",
       "    </tr>\n",
       "    <tr>\n",
       "      <th>0</th>\n",
       "      <td>QuadraticDiscriminantAnalysis</td>\n",
       "      <td>0.812729</td>\n",
       "      <td>0.828034</td>\n",
       "    </tr>\n",
       "    <tr>\n",
       "      <th>0</th>\n",
       "      <td>GaussianNB</td>\n",
       "      <td>0.745299</td>\n",
       "      <td>0.769609</td>\n",
       "    </tr>\n",
       "    <tr>\n",
       "      <th>0</th>\n",
       "      <td>KNeighbors</td>\n",
       "      <td>0.700100</td>\n",
       "      <td>0.976934</td>\n",
       "    </tr>\n",
       "    <tr>\n",
       "      <th>0</th>\n",
       "      <td>DecisionTree</td>\n",
       "      <td>0.672665</td>\n",
       "      <td>0.999989</td>\n",
       "    </tr>\n",
       "  </tbody>\n",
       "</table>\n",
       "</div>"
      ],
      "text/plain": [
       "                      classifier  test.mean()  train.mean()\n",
       "0               GradientBoosting     0.917497      0.935033\n",
       "0                    AdaBoosting     0.911620      0.927676\n",
       "0                   RandomForest     0.842015      0.999666\n",
       "0  QuadraticDiscriminantAnalysis     0.812729      0.828034\n",
       "0                     GaussianNB     0.745299      0.769609\n",
       "0                     KNeighbors     0.700100      0.976934\n",
       "0                   DecisionTree     0.672665      0.999989"
      ]
     },
     "execution_count": 36,
     "metadata": {},
     "output_type": "execute_result"
    }
   ],
   "source": [
    "from sklearn.neighbors import KNeighborsClassifier\n",
    "from sklearn.naive_bayes import GaussianNB\n",
    "from sklearn.ensemble import RandomForestClassifier, AdaBoostClassifier\n",
    "from sklearn.discriminant_analysis import QuadraticDiscriminantAnalysis\n",
    "# from sklearn.svm import SVC\n",
    "# from sklearn.neural_network import MLPClassifier\n",
    "# from sklearn.gaussian_process import GaussianProcessClassifier\n",
    "\n",
    "classifier = [DecisionTreeClassifier, GaussianNB, KNeighborsClassifier, RandomForestClassifier, GradientBoostingClassifier, AdaBoostClassifier, QuadraticDiscriminantAnalysis]\n",
    "classifier_name = ['DecisionTree', 'GaussianNB', 'KNeighbors', 'RandomForest', 'GradientBoosting', 'AdaBoosting', 'QuadraticDiscriminantAnalysis']\n",
    "answer = pd.DataFrame(columns = ['classifier', 'test.mean()', 'train.mean()'])\n",
    "\n",
    "for i in range(len(classifier)):\n",
    "    scorer = np.array(validation(classifier[i], train_X, train_Y)) \n",
    "    answer = answer.append([{'classifier': classifier_name[i], 'test.mean()': scorer[:,0].mean(), 'train.mean()': scorer[:,1].mean()}])\n",
    "    \n",
    "answer.sort_values(by='test.mean()', ascending=False)    \n"
   ]
  },
  {
   "cell_type": "markdown",
   "metadata": {
    "collapsed": false
   },
   "source": [
    "Сразу видно какие модели переобучаются (у них train.mean() почти 1, а вот test.mean() на кросс-валидации плохой), а какие работают исправно. При детальном рассмотрении понятно что многие модели впринцыпе не применимы к такой задаче, но приведены они для наглядности."
   ]
  },
  {
   "cell_type": "code",
   "execution_count": 37,
   "metadata": {
    "collapsed": false
   },
   "outputs": [
    {
     "name": "stdout",
     "output_type": "stream",
     "text": [
      "[0.91161950010393689, 0.0050365924957506605, 0.92767596163386956, 0.0019531606381920029]\n"
     ]
    },
    {
     "data": {
      "text/plain": [
       "array([[ 0.91982911,  0.9246087 ],\n",
       "       [ 0.90517591,  0.93074619],\n",
       "       [ 0.91431999,  0.92748482],\n",
       "       [ 0.90995686,  0.92807466],\n",
       "       [ 0.90881562,  0.92746544]])"
      ]
     },
     "execution_count": 37,
     "metadata": {},
     "output_type": "execute_result"
    }
   ],
   "source": [
    "scorer = np.array(validation(AdaBoostClassifier, train_X, train_Y))\n",
    "print([scorer[:,0].mean(), scorer[:,0].std(),scorer[:,1].mean(), scorer[:,1].std()])\n",
    "scorer"
   ]
  },
  {
   "cell_type": "markdown",
   "metadata": {},
   "source": [
    "У AdaBoostClassifier меньше разброс, что впринцыпе может дать более устойчивые результаты. Но всё таки результат на порядок ниже."
   ]
  },
  {
   "cell_type": "markdown",
   "metadata": {},
   "source": [
    "Теперь попробуем вручную удалить признак user.description_is_website_enabled и user.geo_enabled и заново запустить алгоритм облегчения модели."
   ]
  },
  {
   "cell_type": "code",
   "execution_count": 38,
   "metadata": {
    "collapsed": false
   },
   "outputs": [
    {
     "data": {
      "text/plain": [
       "array(['text_length', 'text_account_count', 'text_hashtag_count',\n",
       "       'text_is_website_enabled', 'user.description_length',\n",
       "       'user.description_hashtag_count',\n",
       "       'user.description_is_website_enabled', 'in_reply_to_user_id',\n",
       "       'user.location', 'user.lang', 'user.statuses_count',\n",
       "       'user.followers_count', 'user.favourites_count', 'user.geo_enabled',\n",
       "       'user.listed_count', 'retweet_count'], dtype=object)"
      ]
     },
     "execution_count": 38,
     "metadata": {},
     "output_type": "execute_result"
    }
   ],
   "source": [
    "signs"
   ]
  },
  {
   "cell_type": "code",
   "execution_count": 39,
   "metadata": {
    "collapsed": false
   },
   "outputs": [
    {
     "name": "stdout",
     "output_type": "stream",
     "text": [
      "without user.lang\n",
      "without user.geo_enabled\n"
     ]
    },
    {
     "data": {
      "text/html": [
       "<div>\n",
       "<table border=\"1\" class=\"dataframe\">\n",
       "  <thead>\n",
       "    <tr style=\"text-align: right;\">\n",
       "      <th></th>\n",
       "      <th>id</th>\n",
       "      <th>signs</th>\n",
       "      <th>test.mean()</th>\n",
       "      <th>test.std()</th>\n",
       "      <th>train.mean()</th>\n",
       "    </tr>\n",
       "  </thead>\n",
       "  <tbody>\n",
       "    <tr>\n",
       "      <th>0</th>\n",
       "      <td>100.0</td>\n",
       "      <td>full</td>\n",
       "      <td>0.917545</td>\n",
       "      <td>0.006951</td>\n",
       "      <td>0.934802</td>\n",
       "    </tr>\n",
       "    <tr>\n",
       "      <th>0</th>\n",
       "      <td>4.0</td>\n",
       "      <td>without user.description_length</td>\n",
       "      <td>0.916863</td>\n",
       "      <td>0.006490</td>\n",
       "      <td>0.934243</td>\n",
       "    </tr>\n",
       "    <tr>\n",
       "      <th>0</th>\n",
       "      <td>0.0</td>\n",
       "      <td>without text_length</td>\n",
       "      <td>0.916584</td>\n",
       "      <td>0.006586</td>\n",
       "      <td>0.933661</td>\n",
       "    </tr>\n",
       "    <tr>\n",
       "      <th>0</th>\n",
       "      <td>2.0</td>\n",
       "      <td>without text_hashtag_count</td>\n",
       "      <td>0.916539</td>\n",
       "      <td>0.006357</td>\n",
       "      <td>0.934650</td>\n",
       "    </tr>\n",
       "    <tr>\n",
       "      <th>0</th>\n",
       "      <td>9.0</td>\n",
       "      <td>without user.favourites_count</td>\n",
       "      <td>0.916118</td>\n",
       "      <td>0.006183</td>\n",
       "      <td>0.933042</td>\n",
       "    </tr>\n",
       "    <tr>\n",
       "      <th>0</th>\n",
       "      <td>3.0</td>\n",
       "      <td>without text_is_website_enabled</td>\n",
       "      <td>0.916052</td>\n",
       "      <td>0.006879</td>\n",
       "      <td>0.934473</td>\n",
       "    </tr>\n",
       "    <tr>\n",
       "      <th>0</th>\n",
       "      <td>1.0</td>\n",
       "      <td>without text_account_count</td>\n",
       "      <td>0.915832</td>\n",
       "      <td>0.007043</td>\n",
       "      <td>0.933822</td>\n",
       "    </tr>\n",
       "    <tr>\n",
       "      <th>0</th>\n",
       "      <td>10.0</td>\n",
       "      <td>without user.listed_count</td>\n",
       "      <td>0.915769</td>\n",
       "      <td>0.007333</td>\n",
       "      <td>0.933765</td>\n",
       "    </tr>\n",
       "    <tr>\n",
       "      <th>0</th>\n",
       "      <td>7.0</td>\n",
       "      <td>without user.statuses_count</td>\n",
       "      <td>0.912138</td>\n",
       "      <td>0.007714</td>\n",
       "      <td>0.925890</td>\n",
       "    </tr>\n",
       "    <tr>\n",
       "      <th>0</th>\n",
       "      <td>6.0</td>\n",
       "      <td>without user.location</td>\n",
       "      <td>0.911620</td>\n",
       "      <td>0.006773</td>\n",
       "      <td>0.930318</td>\n",
       "    </tr>\n",
       "    <tr>\n",
       "      <th>0</th>\n",
       "      <td>5.0</td>\n",
       "      <td>without in_reply_to_user_id</td>\n",
       "      <td>0.900823</td>\n",
       "      <td>0.016529</td>\n",
       "      <td>0.927142</td>\n",
       "    </tr>\n",
       "    <tr>\n",
       "      <th>0</th>\n",
       "      <td>8.0</td>\n",
       "      <td>without user.followers_count</td>\n",
       "      <td>0.899736</td>\n",
       "      <td>0.014694</td>\n",
       "      <td>0.918798</td>\n",
       "    </tr>\n",
       "  </tbody>\n",
       "</table>\n",
       "</div>"
      ],
      "text/plain": [
       "      id                            signs  test.mean()  test.std()  \\\n",
       "0  100.0                             full     0.917545    0.006951   \n",
       "0    4.0  without user.description_length     0.916863    0.006490   \n",
       "0    0.0              without text_length     0.916584    0.006586   \n",
       "0    2.0       without text_hashtag_count     0.916539    0.006357   \n",
       "0    9.0    without user.favourites_count     0.916118    0.006183   \n",
       "0    3.0  without text_is_website_enabled     0.916052    0.006879   \n",
       "0    1.0       without text_account_count     0.915832    0.007043   \n",
       "0   10.0        without user.listed_count     0.915769    0.007333   \n",
       "0    7.0      without user.statuses_count     0.912138    0.007714   \n",
       "0    6.0            without user.location     0.911620    0.006773   \n",
       "0    5.0      without in_reply_to_user_id     0.900823    0.016529   \n",
       "0    8.0     without user.followers_count     0.899736    0.014694   \n",
       "\n",
       "   train.mean()  \n",
       "0      0.934802  \n",
       "0      0.934243  \n",
       "0      0.933661  \n",
       "0      0.934650  \n",
       "0      0.933042  \n",
       "0      0.934473  \n",
       "0      0.933822  \n",
       "0      0.933765  \n",
       "0      0.925890  \n",
       "0      0.930318  \n",
       "0      0.927142  \n",
       "0      0.918798  "
      ]
     },
     "execution_count": 39,
     "metadata": {},
     "output_type": "execute_result"
    }
   ],
   "source": [
    "train_X = np.delete(train_X, [5, 6], 1)\n",
    "signs = np.delete(signs, [5, 6], 0)\n",
    "\n",
    "train_X_del_params = del_params(train_X, train_Y, signs, GradientBoostingClassifier)\n",
    "train_X_del_params[0]"
   ]
  },
  {
   "cell_type": "markdown",
   "metadata": {},
   "source": [
    "# Итог"
   ]
  },
  {
   "cell_type": "markdown",
   "metadata": {},
   "source": [
    "Всё равно осталось много малозначемых параметров, которые рандомно могут повернуть классификатор. Тут как повезёт, они могут подтянуть финальный результат, а могут и опустить. С уверенностю можно сказать, что на то будет набрано 20 ретвитов или нет, сильно влияет количество подписчиков пользователя и статус этого сообщения (т.е. это оригинальный твит или чей-то ретвит)"
   ]
  },
  {
   "cell_type": "markdown",
   "metadata": {
    "collapsed": true
   },
   "source": [
    "# Финальное обучение, предсказание и запись результата."
   ]
  },
  {
   "cell_type": "markdown",
   "metadata": {},
   "source": [
    "Для начала приведём тестовые данные приведём к такому же виду, что тренировочные."
   ]
  },
  {
   "cell_type": "code",
   "execution_count": 48,
   "metadata": {
    "collapsed": false
   },
   "outputs": [],
   "source": [
    "prediction = pd.DataFrame(test['id'], index=range(len(test)), columns=['id']) # сразу выдерним id\n",
    "\n",
    "params = text_params(test['text'])\n",
    "test.insert(2, 'text_length', params[0])\n",
    "test.insert(3, 'text_account_count', params[1])\n",
    "test.insert(4, 'text_hashtag_count', params[2])\n",
    "test.insert(5, 'text_is_website_enabled', params[3])\n",
    "\n",
    "params = text_params(test['user.description'])\n",
    "test.insert(6, 'user.description_length', params[0])\n",
    "test.insert(7, 'user.description_account_count', params[1])\n",
    "test.insert(8, 'user.description_hashtag_count', params[2])\n",
    "test.insert(9, 'user.description_is_website_enabled', params[3])\n",
    "\n",
    "test_X = np.array(test[signs[:-1]])"
   ]
  },
  {
   "cell_type": "code",
   "execution_count": 49,
   "metadata": {
    "collapsed": false
   },
   "outputs": [],
   "source": [
    "signs = train_X_del_params[1] # удаляем повторно найденные признаки из выборки\n",
    "train_Y = np.array(train[signs[-1]]>20) \n",
    "train_X = np.array(train[signs[:-1]])\n",
    "\n",
    "classifier = GradientBoostingClassifier() \n",
    "classifier.fit(train_X, train_Y) # обучение на всех данных тренировочной выборки\n",
    "\n",
    "answer = classifier.predict_proba(test_X)"
   ]
  },
  {
   "cell_type": "code",
   "execution_count": 50,
   "metadata": {
    "collapsed": false
   },
   "outputs": [
    {
     "data": {
      "text/html": [
       "<div>\n",
       "<table border=\"1\" class=\"dataframe\">\n",
       "  <thead>\n",
       "    <tr style=\"text-align: right;\">\n",
       "      <th></th>\n",
       "      <th>id</th>\n",
       "      <th>probability</th>\n",
       "    </tr>\n",
       "  </thead>\n",
       "  <tbody>\n",
       "    <tr>\n",
       "      <th>0</th>\n",
       "      <td>629692042952765440</td>\n",
       "      <td>0.004468</td>\n",
       "    </tr>\n",
       "    <tr>\n",
       "      <th>1</th>\n",
       "      <td>629692042717855745</td>\n",
       "      <td>0.003796</td>\n",
       "    </tr>\n",
       "    <tr>\n",
       "      <th>2</th>\n",
       "      <td>629692039974813696</td>\n",
       "      <td>0.007093</td>\n",
       "    </tr>\n",
       "    <tr>\n",
       "      <th>3</th>\n",
       "      <td>629692038242566145</td>\n",
       "      <td>0.660719</td>\n",
       "    </tr>\n",
       "    <tr>\n",
       "      <th>4</th>\n",
       "      <td>629692036879413248</td>\n",
       "      <td>0.005566</td>\n",
       "    </tr>\n",
       "  </tbody>\n",
       "</table>\n",
       "</div>"
      ],
      "text/plain": [
       "                   id  probability\n",
       "0  629692042952765440     0.004468\n",
       "1  629692042717855745     0.003796\n",
       "2  629692039974813696     0.007093\n",
       "3  629692038242566145     0.660719\n",
       "4  629692036879413248     0.005566"
      ]
     },
     "execution_count": 50,
     "metadata": {},
     "output_type": "execute_result"
    }
   ],
   "source": [
    "prediction.insert(1, 'probability', answer[:,1])\n",
    "prediction[:5]"
   ]
  },
  {
   "cell_type": "code",
   "execution_count": 51,
   "metadata": {
    "collapsed": false
   },
   "outputs": [],
   "source": [
    "prediction.to_csv('prediction_Sivolobtsev.csv', index=False)"
   ]
  }
 ],
 "metadata": {
  "anaconda-cloud": {},
  "kernelspec": {
   "display_name": "Python [Root]",
   "language": "python",
   "name": "Python [Root]"
  },
  "language_info": {
   "codemirror_mode": {
    "name": "ipython",
    "version": 3
   },
   "file_extension": ".py",
   "mimetype": "text/x-python",
   "name": "python",
   "nbconvert_exporter": "python",
   "pygments_lexer": "ipython3",
   "version": "3.5.2"
  }
 },
 "nbformat": 4,
 "nbformat_minor": 0
}
